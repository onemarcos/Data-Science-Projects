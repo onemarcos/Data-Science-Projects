{
  "nbformat": 4,
  "nbformat_minor": 0,
  "metadata": {
    "colab": {
      "provenance": [],
      "collapsed_sections": [],
      "authorship_tag": "ABX9TyMeGyTU1YquNWfZ9GhXAn2K",
      "include_colab_link": true
    },
    "kernelspec": {
      "name": "python3",
      "display_name": "Python 3"
    },
    "language_info": {
      "name": "python"
    }
  },
  "cells": [
    {
      "cell_type": "markdown",
      "metadata": {
        "id": "view-in-github",
        "colab_type": "text"
      },
      "source": [
        "<a href=\"https://colab.research.google.com/github/onemarcos/Data-Science-Projects/blob/main/Spark-Titanic/spark_titanic.ipynb\" target=\"_parent\"><img src=\"https://colab.research.google.com/assets/colab-badge.svg\" alt=\"Open In Colab\"/></a>"
      ]
    },
    {
      "cell_type": "code",
      "source": [
        "# installing dependencies \n",
        "!apt-get install openjdk-8-jdk-headless -qq > /dev/null\n",
        "!wget -q https://archive.apache.org/dist/spark/spark-3.3.0/spark-3.3.0-bin-hadoop3.tgz\n",
        "!tar xf spark-3.3.0-bin-hadoop3.tgz\n",
        "!pip install -q findspark"
      ],
      "metadata": {
        "id": "-KwZs7kS1ghg"
      },
      "execution_count": 1,
      "outputs": []
    },
    {
      "cell_type": "code",
      "source": [
        "# setting necessary variables\n",
        "import os\n",
        "os.environ[\"JAVA_HOME\"] = \"/usr/lib/jvm/java-8-openjdk-amd64\"\n",
        "os.environ[\"SPARK_HOME\"] = \"/content/spark-3.3.0-bin-hadoop3\"\n",
        "\n",
        "# importing pyspark\n",
        "import findspark\n",
        "findspark.init('spark-3.3.0-bin-hadoop3')"
      ],
      "metadata": {
        "id": "VdNEYUCO1irv"
      },
      "execution_count": 2,
      "outputs": []
    },
    {
      "cell_type": "code",
      "source": [
        "# starting a spark session\n",
        "from pyspark.sql import SparkSession\n",
        "from pyspark.ml import Pipeline\n",
        "from pyspark.sql.functions import mean,col,split, col, regexp_extract, when, lit\n",
        "from pyspark.ml.feature import StringIndexer\n",
        "from pyspark.ml.feature import VectorAssembler\n",
        "from pyspark.ml.evaluation import MulticlassClassificationEvaluator\n",
        "from pyspark.ml.feature import QuantileDiscretizer\n",
        "sc = SparkSession.builder.master('local[*]').getOrCreate()\n",
        "\n",
        "# loading csv data\n",
        "df = sc.read.csv(\"train.csv\", inferSchema=True, header=True)\n",
        "\n",
        "# checking schema data types\n",
        "df.printSchema()"
      ],
      "metadata": {
        "colab": {
          "base_uri": "https://localhost:8080/"
        },
        "id": "oo_YorZQ1leG",
        "outputId": "b9d7c78e-bad8-4e3c-e740-0a135a365ef8"
      },
      "execution_count": 10,
      "outputs": [
        {
          "output_type": "stream",
          "name": "stdout",
          "text": [
            "root\n",
            " |-- PassengerId: integer (nullable = true)\n",
            " |-- Survived: integer (nullable = true)\n",
            " |-- Pclass: integer (nullable = true)\n",
            " |-- Name: string (nullable = true)\n",
            " |-- Sex: string (nullable = true)\n",
            " |-- Age: double (nullable = true)\n",
            " |-- SibSp: integer (nullable = true)\n",
            " |-- Parch: integer (nullable = true)\n",
            " |-- Ticket: string (nullable = true)\n",
            " |-- Fare: double (nullable = true)\n",
            " |-- Cabin: string (nullable = true)\n",
            " |-- Embarked: string (nullable = true)\n",
            "\n"
          ]
        }
      ]
    },
    {
      "cell_type": "code",
      "source": [
        "df.show(5)"
      ],
      "metadata": {
        "colab": {
          "base_uri": "https://localhost:8080/"
        },
        "id": "3hlXsX4M2DEj",
        "outputId": "a9f12f1a-a9f8-4003-ccd4-1da9df54d910"
      },
      "execution_count": null,
      "outputs": [
        {
          "output_type": "stream",
          "name": "stdout",
          "text": [
            "+-----------+--------+------+--------------------+------+----+-----+-----+----------------+-------+-----+--------+\n",
            "|PassengerId|Survived|Pclass|                Name|   Sex| Age|SibSp|Parch|          Ticket|   Fare|Cabin|Embarked|\n",
            "+-----------+--------+------+--------------------+------+----+-----+-----+----------------+-------+-----+--------+\n",
            "|          1|       0|     3|Braund, Mr. Owen ...|  male|22.0|    1|    0|       A/5 21171|   7.25| null|       S|\n",
            "|          2|       1|     1|Cumings, Mrs. Joh...|female|38.0|    1|    0|        PC 17599|71.2833|  C85|       C|\n",
            "|          3|       1|     3|Heikkinen, Miss. ...|female|26.0|    0|    0|STON/O2. 3101282|  7.925| null|       S|\n",
            "|          4|       1|     1|Futrelle, Mrs. Ja...|female|35.0|    1|    0|          113803|   53.1| C123|       S|\n",
            "|          5|       0|     3|Allen, Mr. Willia...|  male|35.0|    0|    0|          373450|   8.05| null|       S|\n",
            "+-----------+--------+------+--------------------+------+----+-----+-----+----------------+-------+-----+--------+\n",
            "only showing top 5 rows\n",
            "\n"
          ]
        }
      ]
    },
    {
      "cell_type": "code",
      "source": [
        "df.count()"
      ],
      "metadata": {
        "colab": {
          "base_uri": "https://localhost:8080/"
        },
        "id": "fg_Srk-z2Rut",
        "outputId": "1ab44491-8dfb-4eff-96fc-2ab78350848a"
      },
      "execution_count": null,
      "outputs": [
        {
          "output_type": "execute_result",
          "data": {
            "text/plain": [
              "891"
            ]
          },
          "metadata": {},
          "execution_count": 5
        }
      ]
    },
    {
      "cell_type": "code",
      "source": [
        "df.groupBy(\"Sex\",\"Survived\").count().show()"
      ],
      "metadata": {
        "colab": {
          "base_uri": "https://localhost:8080/"
        },
        "id": "eZQ6u21w-Op2",
        "outputId": "3afba524-3777-4b02-d5d4-cdecae2a07d8"
      },
      "execution_count": 12,
      "outputs": [
        {
          "output_type": "stream",
          "name": "stdout",
          "text": [
            "+------+--------+-----+\n",
            "|   Sex|Survived|count|\n",
            "+------+--------+-----+\n",
            "|  male|       0|  468|\n",
            "|female|       1|  233|\n",
            "|female|       0|   81|\n",
            "|  male|       1|  109|\n",
            "+------+--------+-----+\n",
            "\n"
          ]
        }
      ]
    },
    {
      "cell_type": "code",
      "source": [
        "df.select(\"PassengerId\",\"Sex\",\"Age\",\"Ticket\").show(5)"
      ],
      "metadata": {
        "colab": {
          "base_uri": "https://localhost:8080/"
        },
        "id": "8g7AA2F52YKK",
        "outputId": "d531ef7f-cd00-42eb-bdd9-d31aa170cc4f"
      },
      "execution_count": 5,
      "outputs": [
        {
          "output_type": "stream",
          "name": "stdout",
          "text": [
            "+-----------+------+----+----------------+\n",
            "|PassengerId|   Sex| Age|          Ticket|\n",
            "+-----------+------+----+----------------+\n",
            "|          1|  male|22.0|       A/5 21171|\n",
            "|          2|female|38.0|        PC 17599|\n",
            "|          3|female|26.0|STON/O2. 3101282|\n",
            "|          4|female|35.0|          113803|\n",
            "|          5|  male|35.0|          373450|\n",
            "+-----------+------+----+----------------+\n",
            "only showing top 5 rows\n",
            "\n"
          ]
        }
      ]
    },
    {
      "cell_type": "code",
      "source": [
        "df.describe().show()"
      ],
      "metadata": {
        "colab": {
          "base_uri": "https://localhost:8080/"
        },
        "id": "1nV03otw2k3R",
        "outputId": "bf47fcce-e4a8-4533-aeaa-bc7e94ad4345"
      },
      "execution_count": 6,
      "outputs": [
        {
          "output_type": "stream",
          "name": "stdout",
          "text": [
            "+-------+-----------------+-------------------+------------------+--------------------+------+------------------+------------------+-------------------+------------------+-----------------+-----+--------+\n",
            "|summary|      PassengerId|           Survived|            Pclass|                Name|   Sex|               Age|             SibSp|              Parch|            Ticket|             Fare|Cabin|Embarked|\n",
            "+-------+-----------------+-------------------+------------------+--------------------+------+------------------+------------------+-------------------+------------------+-----------------+-----+--------+\n",
            "|  count|              891|                891|               891|                 891|   891|               714|               891|                891|               891|              891|  204|     889|\n",
            "|   mean|            446.0| 0.3838383838383838| 2.308641975308642|                null|  null| 29.69911764705882|0.5230078563411896|0.38159371492704824|260318.54916792738| 32.2042079685746| null|    null|\n",
            "| stddev|257.3538420152301|0.48659245426485753|0.8360712409770491|                null|  null|14.526497332334035|1.1027434322934315| 0.8060572211299488|471609.26868834975|49.69342859718089| null|    null|\n",
            "|    min|                1|                  0|                 1|\"Andersson, Mr. A...|female|              0.42|                 0|                  0|            110152|              0.0|  A10|       C|\n",
            "|    max|              891|                  1|                 3|van Melkebeke, Mr...|  male|              80.0|                 8|                  6|         WE/P 5735|         512.3292|    T|       S|\n",
            "+-------+-----------------+-------------------+------------------+--------------------+------+------------------+------------------+-------------------+------------------+-----------------+-----+--------+\n",
            "\n"
          ]
        }
      ]
    },
    {
      "cell_type": "code",
      "source": [
        "df.select(\"Pclass\").distinct().show()"
      ],
      "metadata": {
        "colab": {
          "base_uri": "https://localhost:8080/"
        },
        "id": "fFJvWDeT4OZS",
        "outputId": "3915f456-f54c-4183-a195-2f7b5e161f9d"
      },
      "execution_count": 7,
      "outputs": [
        {
          "output_type": "stream",
          "name": "stdout",
          "text": [
            "+------+\n",
            "|Pclass|\n",
            "+------+\n",
            "|     1|\n",
            "|     3|\n",
            "|     2|\n",
            "+------+\n",
            "\n"
          ]
        }
      ]
    },
    {
      "cell_type": "code",
      "source": [
        "from pyspark.sql import functions as F\n",
        "\n",
        "# Counting and Removing Null values\n",
        "df.select([F.count(F.when(F.isnull(c), c)).alias(c) for c in df.columns]).show()"
      ],
      "metadata": {
        "colab": {
          "base_uri": "https://localhost:8080/"
        },
        "id": "jKLPpAQb4W-Y",
        "outputId": "b2fefc12-7104-4e7b-fd27-1e0026f5e275"
      },
      "execution_count": 8,
      "outputs": [
        {
          "output_type": "stream",
          "name": "stdout",
          "text": [
            "+-----------+--------+------+----+---+---+-----+-----+------+----+-----+--------+\n",
            "|PassengerId|Survived|Pclass|Name|Sex|Age|SibSp|Parch|Ticket|Fare|Cabin|Embarked|\n",
            "+-----------+--------+------+----+---+---+-----+-----+------+----+-----+--------+\n",
            "|          0|       0|     0|   0|  0|177|    0|    0|     0|   0|  687|       2|\n",
            "+-----------+--------+------+----+---+---+-----+-----+------+----+-----+--------+\n",
            "\n"
          ]
        }
      ]
    },
    {
      "cell_type": "code",
      "source": [
        "mean_age = df.select(mean('Age')).collect()[0][0]\n",
        "print(mean_age)"
      ],
      "metadata": {
        "colab": {
          "base_uri": "https://localhost:8080/"
        },
        "id": "0gCrc7ye9tsA",
        "outputId": "19eb2a59-d847-4384-8fbd-8198eaacb400"
      },
      "execution_count": 11,
      "outputs": [
        {
          "output_type": "stream",
          "name": "stdout",
          "text": [
            "29.69911764705882\n"
          ]
        }
      ]
    },
    {
      "cell_type": "code",
      "source": [
        "df.select(\"Name\").show()"
      ],
      "metadata": {
        "colab": {
          "base_uri": "https://localhost:8080/"
        },
        "id": "t6V1AVMx9N_P",
        "outputId": "fb25ada6-5df0-4ce2-ad2b-3754fd26a512"
      },
      "execution_count": 13,
      "outputs": [
        {
          "output_type": "stream",
          "name": "stdout",
          "text": [
            "+--------------------+\n",
            "|                Name|\n",
            "+--------------------+\n",
            "|Braund, Mr. Owen ...|\n",
            "|Cumings, Mrs. Joh...|\n",
            "|Heikkinen, Miss. ...|\n",
            "|Futrelle, Mrs. Ja...|\n",
            "|Allen, Mr. Willia...|\n",
            "|    Moran, Mr. James|\n",
            "|McCarthy, Mr. Tim...|\n",
            "|Palsson, Master. ...|\n",
            "|Johnson, Mrs. Osc...|\n",
            "|Nasser, Mrs. Nich...|\n",
            "|Sandstrom, Miss. ...|\n",
            "|Bonnell, Miss. El...|\n",
            "|Saundercock, Mr. ...|\n",
            "|Andersson, Mr. An...|\n",
            "|Vestrom, Miss. Hu...|\n",
            "|Hewlett, Mrs. (Ma...|\n",
            "|Rice, Master. Eugene|\n",
            "|Williams, Mr. Cha...|\n",
            "|Vander Planke, Mr...|\n",
            "|Masselmani, Mrs. ...|\n",
            "+--------------------+\n",
            "only showing top 20 rows\n",
            "\n"
          ]
        }
      ]
    },
    {
      "cell_type": "markdown",
      "source": [
        "Assigning the mean values of Mr and Mrs to the respective groups\n",
        "Using the Regex \"\"[A-Za-z]+).\" we extract the initials from the Name. It looks for strings which lie between A-Z or a-z and followed by a .(dot)."
      ],
      "metadata": {
        "id": "QyGodXQE-06Q"
      }
    },
    {
      "cell_type": "code",
      "source": [
        "df = df.withColumn(\"Initial\",regexp_extract(col(\"Name\"),\"([A-Za-z]+)\\.\",1))"
      ],
      "metadata": {
        "id": "sZQ_iHrr-bW_"
      },
      "execution_count": 14,
      "outputs": []
    },
    {
      "cell_type": "code",
      "source": [
        "df.show()"
      ],
      "metadata": {
        "colab": {
          "base_uri": "https://localhost:8080/"
        },
        "id": "M8N2f04b-wqz",
        "outputId": "4bf991d7-8a2b-4fe8-ff63-51c8777f273d"
      },
      "execution_count": 15,
      "outputs": [
        {
          "output_type": "stream",
          "name": "stdout",
          "text": [
            "+-----------+--------+------+--------------------+------+----+-----+-----+----------------+-------+-----+--------+-------+\n",
            "|PassengerId|Survived|Pclass|                Name|   Sex| Age|SibSp|Parch|          Ticket|   Fare|Cabin|Embarked|Initial|\n",
            "+-----------+--------+------+--------------------+------+----+-----+-----+----------------+-------+-----+--------+-------+\n",
            "|          1|       0|     3|Braund, Mr. Owen ...|  male|22.0|    1|    0|       A/5 21171|   7.25| null|       S|     Mr|\n",
            "|          2|       1|     1|Cumings, Mrs. Joh...|female|38.0|    1|    0|        PC 17599|71.2833|  C85|       C|    Mrs|\n",
            "|          3|       1|     3|Heikkinen, Miss. ...|female|26.0|    0|    0|STON/O2. 3101282|  7.925| null|       S|   Miss|\n",
            "|          4|       1|     1|Futrelle, Mrs. Ja...|female|35.0|    1|    0|          113803|   53.1| C123|       S|    Mrs|\n",
            "|          5|       0|     3|Allen, Mr. Willia...|  male|35.0|    0|    0|          373450|   8.05| null|       S|     Mr|\n",
            "|          6|       0|     3|    Moran, Mr. James|  male|null|    0|    0|          330877| 8.4583| null|       Q|     Mr|\n",
            "|          7|       0|     1|McCarthy, Mr. Tim...|  male|54.0|    0|    0|           17463|51.8625|  E46|       S|     Mr|\n",
            "|          8|       0|     3|Palsson, Master. ...|  male| 2.0|    3|    1|          349909| 21.075| null|       S| Master|\n",
            "|          9|       1|     3|Johnson, Mrs. Osc...|female|27.0|    0|    2|          347742|11.1333| null|       S|    Mrs|\n",
            "|         10|       1|     2|Nasser, Mrs. Nich...|female|14.0|    1|    0|          237736|30.0708| null|       C|    Mrs|\n",
            "|         11|       1|     3|Sandstrom, Miss. ...|female| 4.0|    1|    1|         PP 9549|   16.7|   G6|       S|   Miss|\n",
            "|         12|       1|     1|Bonnell, Miss. El...|female|58.0|    0|    0|          113783|  26.55| C103|       S|   Miss|\n",
            "|         13|       0|     3|Saundercock, Mr. ...|  male|20.0|    0|    0|       A/5. 2151|   8.05| null|       S|     Mr|\n",
            "|         14|       0|     3|Andersson, Mr. An...|  male|39.0|    1|    5|          347082| 31.275| null|       S|     Mr|\n",
            "|         15|       0|     3|Vestrom, Miss. Hu...|female|14.0|    0|    0|          350406| 7.8542| null|       S|   Miss|\n",
            "|         16|       1|     2|Hewlett, Mrs. (Ma...|female|55.0|    0|    0|          248706|   16.0| null|       S|    Mrs|\n",
            "|         17|       0|     3|Rice, Master. Eugene|  male| 2.0|    4|    1|          382652| 29.125| null|       Q| Master|\n",
            "|         18|       1|     2|Williams, Mr. Cha...|  male|null|    0|    0|          244373|   13.0| null|       S|     Mr|\n",
            "|         19|       0|     3|Vander Planke, Mr...|female|31.0|    1|    0|          345763|   18.0| null|       S|    Mrs|\n",
            "|         20|       1|     3|Masselmani, Mrs. ...|female|null|    0|    0|            2649|  7.225| null|       C|    Mrs|\n",
            "+-----------+--------+------+--------------------+------+----+-----+-----+----------------+-------+-----+--------+-------+\n",
            "only showing top 20 rows\n",
            "\n"
          ]
        }
      ]
    },
    {
      "cell_type": "code",
      "source": [
        "df.select(\"Initial\").distinct().show()"
      ],
      "metadata": {
        "colab": {
          "base_uri": "https://localhost:8080/"
        },
        "id": "t8kcHtvz_F5X",
        "outputId": "e5a7437a-3ba8-455c-af36-080d80b062aa"
      },
      "execution_count": 16,
      "outputs": [
        {
          "output_type": "stream",
          "name": "stdout",
          "text": [
            "+--------+\n",
            "| Initial|\n",
            "+--------+\n",
            "|     Don|\n",
            "|    Miss|\n",
            "|Countess|\n",
            "|     Col|\n",
            "|     Rev|\n",
            "|    Lady|\n",
            "|  Master|\n",
            "|     Mme|\n",
            "|    Capt|\n",
            "|      Mr|\n",
            "|      Dr|\n",
            "|     Mrs|\n",
            "|     Sir|\n",
            "|Jonkheer|\n",
            "|    Mlle|\n",
            "|   Major|\n",
            "|      Ms|\n",
            "+--------+\n",
            "\n"
          ]
        }
      ]
    },
    {
      "cell_type": "code",
      "source": [
        "# Fixing misspelled Initials like Mlle or Mme that stand for Miss\n",
        "df = df.replace(['Mlle','Mme', 'Ms', 'Dr','Major','Lady','Countess','Jonkheer','Col','Rev','Capt','Sir','Don'],\n",
        "               ['Miss','Miss','Miss','Mr','Mr',  'Mrs',  'Mrs',  'Other',  'Other','Other','Mr','Mr','Mr'])\n"
      ],
      "metadata": {
        "id": "KiWhr15P_I7S"
      },
      "execution_count": 17,
      "outputs": []
    },
    {
      "cell_type": "code",
      "source": [
        "df.select(\"Initial\").distinct().show()"
      ],
      "metadata": {
        "colab": {
          "base_uri": "https://localhost:8080/"
        },
        "id": "BUFHtAJI_ZPn",
        "outputId": "781fa31e-ac51-48c2-b38a-74e71817ae91"
      },
      "execution_count": 18,
      "outputs": [
        {
          "output_type": "stream",
          "name": "stdout",
          "text": [
            "+-------+\n",
            "|Initial|\n",
            "+-------+\n",
            "|   Miss|\n",
            "|  Other|\n",
            "| Master|\n",
            "|     Mr|\n",
            "|    Mrs|\n",
            "+-------+\n",
            "\n"
          ]
        }
      ]
    },
    {
      "cell_type": "code",
      "source": [
        "# Imputing missing values in age feature based on average age of Initials\n",
        "df.groupby('Initial').avg('Age').collect()"
      ],
      "metadata": {
        "colab": {
          "base_uri": "https://localhost:8080/"
        },
        "id": "ak55wqjt_do4",
        "outputId": "0cd63c0c-5667-468b-b7fc-57d71eccbef4"
      },
      "execution_count": 19,
      "outputs": [
        {
          "output_type": "execute_result",
          "data": {
            "text/plain": [
              "[Row(Initial='Miss', avg(Age)=21.86),\n",
              " Row(Initial='Other', avg(Age)=45.888888888888886),\n",
              " Row(Initial='Master', avg(Age)=4.574166666666667),\n",
              " Row(Initial='Mr', avg(Age)=32.73960880195599),\n",
              " Row(Initial='Mrs', avg(Age)=35.981818181818184)]"
            ]
          },
          "metadata": {},
          "execution_count": 19
        }
      ]
    },
    {
      "cell_type": "code",
      "source": [
        "df = df.withColumn(\"Age\",when((df[\"Initial\"] == \"Miss\") & (df[\"Age\"].isNull()), 22).otherwise(df[\"Age\"]))\n",
        "df = df.withColumn(\"Age\",when((df[\"Initial\"] == \"Other\") & (df[\"Age\"].isNull()), 46).otherwise(df[\"Age\"]))\n",
        "df = df.withColumn(\"Age\",when((df[\"Initial\"] == \"Master\") & (df[\"Age\"].isNull()), 5).otherwise(df[\"Age\"]))\n",
        "df = df.withColumn(\"Age\",when((df[\"Initial\"] == \"Mr\") & (df[\"Age\"].isNull()), 33).otherwise(df[\"Age\"]))\n",
        "df = df.withColumn(\"Age\",when((df[\"Initial\"] == \"Mrs\") & (df[\"Age\"].isNull()), 36).otherwise(df[\"Age\"]))"
      ],
      "metadata": {
        "id": "AI76SHX2_nuz"
      },
      "execution_count": 20,
      "outputs": []
    },
    {
      "cell_type": "code",
      "source": [
        "df.filter(df.Age==46).select(\"Initial\").show()"
      ],
      "metadata": {
        "colab": {
          "base_uri": "https://localhost:8080/"
        },
        "id": "X-kru-cH_zFO",
        "outputId": "dd292b34-cba2-4516-ccec-a43f9193494b"
      },
      "execution_count": 21,
      "outputs": [
        {
          "output_type": "stream",
          "name": "stdout",
          "text": [
            "+-------+\n",
            "|Initial|\n",
            "+-------+\n",
            "|     Mr|\n",
            "|     Mr|\n",
            "|     Mr|\n",
            "+-------+\n",
            "\n"
          ]
        }
      ]
    },
    {
      "cell_type": "code",
      "source": [
        "df.select(\"Age\").show()"
      ],
      "metadata": {
        "colab": {
          "base_uri": "https://localhost:8080/"
        },
        "id": "FqYBBPRp_5gC",
        "outputId": "59619c74-7c99-4dad-db59-b8753cc24b74"
      },
      "execution_count": 22,
      "outputs": [
        {
          "output_type": "stream",
          "name": "stdout",
          "text": [
            "+----+\n",
            "| Age|\n",
            "+----+\n",
            "|22.0|\n",
            "|38.0|\n",
            "|26.0|\n",
            "|35.0|\n",
            "|35.0|\n",
            "|33.0|\n",
            "|54.0|\n",
            "| 2.0|\n",
            "|27.0|\n",
            "|14.0|\n",
            "| 4.0|\n",
            "|58.0|\n",
            "|20.0|\n",
            "|39.0|\n",
            "|14.0|\n",
            "|55.0|\n",
            "| 2.0|\n",
            "|33.0|\n",
            "|31.0|\n",
            "|36.0|\n",
            "+----+\n",
            "only showing top 20 rows\n",
            "\n"
          ]
        }
      ]
    },
    {
      "cell_type": "code",
      "source": [
        "#Embarked feature has only two missining values\n",
        "df.groupBy(\"Embarked\").count().show()"
      ],
      "metadata": {
        "colab": {
          "base_uri": "https://localhost:8080/"
        },
        "id": "kGn_FHuM_-eq",
        "outputId": "87eeb8fb-1003-4966-de94-8075ede0ad73"
      },
      "execution_count": 23,
      "outputs": [
        {
          "output_type": "stream",
          "name": "stdout",
          "text": [
            "+--------+-----+\n",
            "|Embarked|count|\n",
            "+--------+-----+\n",
            "|       Q|   77|\n",
            "|    null|    2|\n",
            "|       C|  168|\n",
            "|       S|  644|\n",
            "+--------+-----+\n",
            "\n"
          ]
        }
      ]
    },
    {
      "cell_type": "code",
      "source": [
        "# Dropping unnecessary columns\n",
        "df = df.drop(\"PassengerId\",\"Name\",\"Ticket\",\"Cabin\",\"Embarked\",\"Sex\",\"Initial\")"
      ],
      "metadata": {
        "id": "Cgtaei9TH4UT"
      },
      "execution_count": 25,
      "outputs": []
    },
    {
      "cell_type": "code",
      "source": [
        "# Puting all features into vector\n",
        "feature = VectorAssembler(inputCols=df.columns[1:],outputCol=\"features\")\n",
        "feature_vector= feature.transform(df)"
      ],
      "metadata": {
        "id": "nPLWztnDAG5E"
      },
      "execution_count": 26,
      "outputs": []
    },
    {
      "cell_type": "code",
      "source": [
        "feature_vector.show()"
      ],
      "metadata": {
        "colab": {
          "base_uri": "https://localhost:8080/"
        },
        "id": "M22ty6QsIBSG",
        "outputId": "1c6bb5d4-8de9-483d-d09e-2c7dfa99b293"
      },
      "execution_count": 27,
      "outputs": [
        {
          "output_type": "stream",
          "name": "stdout",
          "text": [
            "+--------+------+----+-----+-----+-------+--------------------+\n",
            "|Survived|Pclass| Age|SibSp|Parch|   Fare|            features|\n",
            "+--------+------+----+-----+-----+-------+--------------------+\n",
            "|       0|     3|22.0|    1|    0|   7.25|[3.0,22.0,1.0,0.0...|\n",
            "|       1|     1|38.0|    1|    0|71.2833|[1.0,38.0,1.0,0.0...|\n",
            "|       1|     3|26.0|    0|    0|  7.925|[3.0,26.0,0.0,0.0...|\n",
            "|       1|     1|35.0|    1|    0|   53.1|[1.0,35.0,1.0,0.0...|\n",
            "|       0|     3|35.0|    0|    0|   8.05|[3.0,35.0,0.0,0.0...|\n",
            "|       0|     3|33.0|    0|    0| 8.4583|[3.0,33.0,0.0,0.0...|\n",
            "|       0|     1|54.0|    0|    0|51.8625|[1.0,54.0,0.0,0.0...|\n",
            "|       0|     3| 2.0|    3|    1| 21.075|[3.0,2.0,3.0,1.0,...|\n",
            "|       1|     3|27.0|    0|    2|11.1333|[3.0,27.0,0.0,2.0...|\n",
            "|       1|     2|14.0|    1|    0|30.0708|[2.0,14.0,1.0,0.0...|\n",
            "|       1|     3| 4.0|    1|    1|   16.7|[3.0,4.0,1.0,1.0,...|\n",
            "|       1|     1|58.0|    0|    0|  26.55|[1.0,58.0,0.0,0.0...|\n",
            "|       0|     3|20.0|    0|    0|   8.05|[3.0,20.0,0.0,0.0...|\n",
            "|       0|     3|39.0|    1|    5| 31.275|[3.0,39.0,1.0,5.0...|\n",
            "|       0|     3|14.0|    0|    0| 7.8542|[3.0,14.0,0.0,0.0...|\n",
            "|       1|     2|55.0|    0|    0|   16.0|[2.0,55.0,0.0,0.0...|\n",
            "|       0|     3| 2.0|    4|    1| 29.125|[3.0,2.0,4.0,1.0,...|\n",
            "|       1|     2|33.0|    0|    0|   13.0|[2.0,33.0,0.0,0.0...|\n",
            "|       0|     3|31.0|    1|    0|   18.0|[3.0,31.0,1.0,0.0...|\n",
            "|       1|     3|36.0|    0|    0|  7.225|[3.0,36.0,0.0,0.0...|\n",
            "+--------+------+----+-----+-----+-------+--------------------+\n",
            "only showing top 20 rows\n",
            "\n"
          ]
        }
      ]
    },
    {
      "cell_type": "code",
      "source": [
        "# Spliting it into training and test\n",
        "(trainingData, testData) = feature_vector.randomSplit([0.8, 0.2],seed = 11)"
      ],
      "metadata": {
        "id": "ZC7SubsFIEmw"
      },
      "execution_count": 28,
      "outputs": []
    },
    {
      "cell_type": "markdown",
      "source": [
        "# Modelling"
      ],
      "metadata": {
        "id": "ZnPDpXG9ITe0"
      }
    },
    {
      "cell_type": "markdown",
      "source": [
        "## LogisticRegression"
      ],
      "metadata": {
        "id": "rwmN-r93IYUS"
      }
    },
    {
      "cell_type": "code",
      "source": [
        "from pyspark.ml.classification import LogisticRegression\n",
        "lr = LogisticRegression(labelCol=\"Survived\", featuresCol=\"features\")\n",
        "# Training algo\n",
        "lrModel = lr.fit(trainingData)\n",
        "lr_prediction = lrModel.transform(testData)\n",
        "lr_prediction.select(\"prediction\", \"Survived\", \"features\").show()\n",
        "evaluator = MulticlassClassificationEvaluator(labelCol=\"Survived\", predictionCol=\"prediction\", metricName=\"accuracy\")"
      ],
      "metadata": {
        "colab": {
          "base_uri": "https://localhost:8080/"
        },
        "id": "mWKM6Md3IHkM",
        "outputId": "7b644f60-39e2-4428-f35a-76bfb1d6bc87"
      },
      "execution_count": 29,
      "outputs": [
        {
          "output_type": "stream",
          "name": "stdout",
          "text": [
            "+----------+--------+--------------------+\n",
            "|prediction|Survived|            features|\n",
            "+----------+--------+--------------------+\n",
            "|       1.0|       0|[1.0,22.0,0.0,0.0...|\n",
            "|       1.0|       0|[1.0,24.0,0.0,0.0...|\n",
            "|       1.0|       0|[1.0,29.0,0.0,0.0...|\n",
            "|       1.0|       0|[1.0,29.0,1.0,0.0...|\n",
            "|       1.0|       0|[1.0,30.0,0.0,0.0...|\n",
            "|       1.0|       0|[1.0,31.0,1.0,0.0...|\n",
            "|       1.0|       0|(5,[0,1],[1.0,33.0])|\n",
            "|       1.0|       0|[1.0,33.0,0.0,0.0...|\n",
            "|       1.0|       0|[1.0,33.0,0.0,0.0...|\n",
            "|       1.0|       0|[1.0,33.0,0.0,0.0...|\n",
            "|       1.0|       0|[1.0,33.0,0.0,0.0...|\n",
            "|       1.0|       0|[1.0,37.0,1.0,0.0...|\n",
            "|       1.0|       0|[1.0,38.0,0.0,1.0...|\n",
            "|       1.0|       0|[1.0,45.0,1.0,0.0...|\n",
            "|       1.0|       0|[1.0,47.0,0.0,0.0...|\n",
            "|       1.0|       0|[1.0,58.0,0.0,2.0...|\n",
            "|       0.0|       0|[1.0,62.0,0.0,0.0...|\n",
            "|       0.0|       0|[1.0,65.0,0.0,0.0...|\n",
            "|       0.0|       0|[1.0,71.0,0.0,0.0...|\n",
            "|       1.0|       0|[2.0,19.0,1.0,1.0...|\n",
            "+----------+--------+--------------------+\n",
            "only showing top 20 rows\n",
            "\n"
          ]
        }
      ]
    },
    {
      "cell_type": "code",
      "source": [
        "# Evaluating accuracy of LogisticRegression\n",
        "lr_accuracy = evaluator.evaluate(lr_prediction)\n",
        "print(\"Accuracy of LogisticRegression is = %g\"% (lr_accuracy))\n",
        "print(\"Test Error of LogisticRegression = %g \" % (1.0 - lr_accuracy))"
      ],
      "metadata": {
        "colab": {
          "base_uri": "https://localhost:8080/"
        },
        "id": "rgm7Lw40Icwp",
        "outputId": "f15bdd5e-e064-4871-c907-6baa2e2e3b94"
      },
      "execution_count": 30,
      "outputs": [
        {
          "output_type": "stream",
          "name": "stdout",
          "text": [
            "Accuracy of LogisticRegression is = 0.691489\n",
            "Test Error of LogisticRegression = 0.308511 \n"
          ]
        }
      ]
    },
    {
      "cell_type": "markdown",
      "source": [
        "## Decision Tree Classifier"
      ],
      "metadata": {
        "id": "b8avAMx7IlYX"
      }
    },
    {
      "cell_type": "code",
      "source": [
        "from pyspark.ml.classification import DecisionTreeClassifier\n",
        "dt = DecisionTreeClassifier(labelCol=\"Survived\", featuresCol=\"features\")\n",
        "dt_model = dt.fit(trainingData)\n",
        "dt_prediction = dt_model.transform(testData)\n",
        "dt_prediction.select(\"prediction\", \"Survived\", \"features\").show()\n"
      ],
      "metadata": {
        "colab": {
          "base_uri": "https://localhost:8080/"
        },
        "id": "PUuSvk7vIoFr",
        "outputId": "30511a50-5d71-4743-e1be-aae41c605bbe"
      },
      "execution_count": 31,
      "outputs": [
        {
          "output_type": "stream",
          "name": "stdout",
          "text": [
            "+----------+--------+--------------------+\n",
            "|prediction|Survived|            features|\n",
            "+----------+--------+--------------------+\n",
            "|       1.0|       0|[1.0,22.0,0.0,0.0...|\n",
            "|       1.0|       0|[1.0,24.0,0.0,0.0...|\n",
            "|       1.0|       0|[1.0,29.0,0.0,0.0...|\n",
            "|       1.0|       0|[1.0,29.0,1.0,0.0...|\n",
            "|       1.0|       0|[1.0,30.0,0.0,0.0...|\n",
            "|       1.0|       0|[1.0,31.0,1.0,0.0...|\n",
            "|       0.0|       0|(5,[0,1],[1.0,33.0])|\n",
            "|       1.0|       0|[1.0,33.0,0.0,0.0...|\n",
            "|       1.0|       0|[1.0,33.0,0.0,0.0...|\n",
            "|       1.0|       0|[1.0,33.0,0.0,0.0...|\n",
            "|       1.0|       0|[1.0,33.0,0.0,0.0...|\n",
            "|       1.0|       0|[1.0,37.0,1.0,0.0...|\n",
            "|       1.0|       0|[1.0,38.0,0.0,1.0...|\n",
            "|       1.0|       0|[1.0,45.0,1.0,0.0...|\n",
            "|       0.0|       0|[1.0,47.0,0.0,0.0...|\n",
            "|       1.0|       0|[1.0,58.0,0.0,2.0...|\n",
            "|       0.0|       0|[1.0,62.0,0.0,0.0...|\n",
            "|       0.0|       0|[1.0,65.0,0.0,0.0...|\n",
            "|       0.0|       0|[1.0,71.0,0.0,0.0...|\n",
            "|       0.0|       0|[2.0,19.0,1.0,1.0...|\n",
            "+----------+--------+--------------------+\n",
            "only showing top 20 rows\n",
            "\n"
          ]
        }
      ]
    },
    {
      "cell_type": "code",
      "source": [
        "# Evaluating accuracy of DecisionTreeClassifier\n",
        "dt_accuracy = evaluator.evaluate(dt_prediction)\n",
        "print(\"Accuracy of DecisionTreeClassifier is = %g\"% (dt_accuracy))\n",
        "print(\"Test Error of DecisionTreeClassifier = %g \" % (1.0 - dt_accuracy))"
      ],
      "metadata": {
        "colab": {
          "base_uri": "https://localhost:8080/"
        },
        "id": "ubOlIXwBIqFa",
        "outputId": "e3a52c11-7bf1-4bad-dce7-e295af0a002d"
      },
      "execution_count": 32,
      "outputs": [
        {
          "output_type": "stream",
          "name": "stdout",
          "text": [
            "Accuracy of DecisionTreeClassifier is = 0.691489\n",
            "Test Error of DecisionTreeClassifier = 0.308511 \n"
          ]
        }
      ]
    },
    {
      "cell_type": "markdown",
      "source": [
        "## Random Forest Classifier"
      ],
      "metadata": {
        "id": "35rDVUU-Iw3m"
      }
    },
    {
      "cell_type": "code",
      "source": [
        "from pyspark.ml.classification import RandomForestClassifier\n",
        "rf = DecisionTreeClassifier(labelCol=\"Survived\", featuresCol=\"features\")\n",
        "rf_model = rf.fit(trainingData)\n",
        "rf_prediction = rf_model.transform(testData)\n",
        "rf_prediction.select(\"prediction\", \"Survived\", \"features\").show()"
      ],
      "metadata": {
        "colab": {
          "base_uri": "https://localhost:8080/"
        },
        "id": "nMJiRZpNIzSz",
        "outputId": "86c1255a-8ef2-48d6-9102-bf6ac5f489a1"
      },
      "execution_count": 34,
      "outputs": [
        {
          "output_type": "stream",
          "name": "stdout",
          "text": [
            "+----------+--------+--------------------+\n",
            "|prediction|Survived|            features|\n",
            "+----------+--------+--------------------+\n",
            "|       1.0|       0|[1.0,22.0,0.0,0.0...|\n",
            "|       1.0|       0|[1.0,24.0,0.0,0.0...|\n",
            "|       1.0|       0|[1.0,29.0,0.0,0.0...|\n",
            "|       1.0|       0|[1.0,29.0,1.0,0.0...|\n",
            "|       1.0|       0|[1.0,30.0,0.0,0.0...|\n",
            "|       1.0|       0|[1.0,31.0,1.0,0.0...|\n",
            "|       0.0|       0|(5,[0,1],[1.0,33.0])|\n",
            "|       1.0|       0|[1.0,33.0,0.0,0.0...|\n",
            "|       1.0|       0|[1.0,33.0,0.0,0.0...|\n",
            "|       1.0|       0|[1.0,33.0,0.0,0.0...|\n",
            "|       1.0|       0|[1.0,33.0,0.0,0.0...|\n",
            "|       1.0|       0|[1.0,37.0,1.0,0.0...|\n",
            "|       1.0|       0|[1.0,38.0,0.0,1.0...|\n",
            "|       1.0|       0|[1.0,45.0,1.0,0.0...|\n",
            "|       0.0|       0|[1.0,47.0,0.0,0.0...|\n",
            "|       1.0|       0|[1.0,58.0,0.0,2.0...|\n",
            "|       0.0|       0|[1.0,62.0,0.0,0.0...|\n",
            "|       0.0|       0|[1.0,65.0,0.0,0.0...|\n",
            "|       0.0|       0|[1.0,71.0,0.0,0.0...|\n",
            "|       0.0|       0|[2.0,19.0,1.0,1.0...|\n",
            "+----------+--------+--------------------+\n",
            "only showing top 20 rows\n",
            "\n"
          ]
        }
      ]
    },
    {
      "cell_type": "code",
      "source": [
        "# Evaluating accuracy of RandomForestClassifier\n",
        "rf_accuracy = evaluator.evaluate(rf_prediction)\n",
        "print(\"Accuracy of RandomForestClassifier is = %g\"% (rf_accuracy))\n",
        "print(\"Test Error of RandomForestClassifier  = %g \" % (1.0 - rf_accuracy))"
      ],
      "metadata": {
        "colab": {
          "base_uri": "https://localhost:8080/"
        },
        "id": "854Sp8QBI1BX",
        "outputId": "2cd47be4-8bac-48f6-bef5-d5e4a5bbdee5"
      },
      "execution_count": 35,
      "outputs": [
        {
          "output_type": "stream",
          "name": "stdout",
          "text": [
            "Accuracy of RandomForestClassifier is = 0.691489\n",
            "Test Error of RandomForestClassifier  = 0.308511 \n"
          ]
        }
      ]
    },
    {
      "cell_type": "markdown",
      "source": [
        "## Gradient-boosted tree classifier"
      ],
      "metadata": {
        "id": "BtWzk3BEI7xd"
      }
    },
    {
      "cell_type": "code",
      "source": [
        "from pyspark.ml.classification import GBTClassifier\n",
        "gbt = GBTClassifier(labelCol=\"Survived\", featuresCol=\"features\",maxIter=10)\n",
        "gbt_model = gbt.fit(trainingData)\n",
        "gbt_prediction = gbt_model.transform(testData)\n",
        "gbt_prediction.select(\"prediction\", \"Survived\", \"features\").show()"
      ],
      "metadata": {
        "colab": {
          "base_uri": "https://localhost:8080/"
        },
        "id": "Yf2l0QsXI8vV",
        "outputId": "89c16517-c594-4360-902a-f4fdbf2c5d21"
      },
      "execution_count": 36,
      "outputs": [
        {
          "output_type": "stream",
          "name": "stdout",
          "text": [
            "+----------+--------+--------------------+\n",
            "|prediction|Survived|            features|\n",
            "+----------+--------+--------------------+\n",
            "|       1.0|       0|[1.0,22.0,0.0,0.0...|\n",
            "|       1.0|       0|[1.0,24.0,0.0,0.0...|\n",
            "|       1.0|       0|[1.0,29.0,0.0,0.0...|\n",
            "|       1.0|       0|[1.0,29.0,1.0,0.0...|\n",
            "|       1.0|       0|[1.0,30.0,0.0,0.0...|\n",
            "|       1.0|       0|[1.0,31.0,1.0,0.0...|\n",
            "|       0.0|       0|(5,[0,1],[1.0,33.0])|\n",
            "|       1.0|       0|[1.0,33.0,0.0,0.0...|\n",
            "|       1.0|       0|[1.0,33.0,0.0,0.0...|\n",
            "|       1.0|       0|[1.0,33.0,0.0,0.0...|\n",
            "|       1.0|       0|[1.0,33.0,0.0,0.0...|\n",
            "|       1.0|       0|[1.0,37.0,1.0,0.0...|\n",
            "|       1.0|       0|[1.0,38.0,0.0,1.0...|\n",
            "|       1.0|       0|[1.0,45.0,1.0,0.0...|\n",
            "|       0.0|       0|[1.0,47.0,0.0,0.0...|\n",
            "|       1.0|       0|[1.0,58.0,0.0,2.0...|\n",
            "|       0.0|       0|[1.0,62.0,0.0,0.0...|\n",
            "|       0.0|       0|[1.0,65.0,0.0,0.0...|\n",
            "|       0.0|       0|[1.0,71.0,0.0,0.0...|\n",
            "|       1.0|       0|[2.0,19.0,1.0,1.0...|\n",
            "+----------+--------+--------------------+\n",
            "only showing top 20 rows\n",
            "\n"
          ]
        }
      ]
    },
    {
      "cell_type": "code",
      "source": [
        "# Evaluate accuracy of Gradient-boosted\n",
        "gbt_accuracy = evaluator.evaluate(gbt_prediction)\n",
        "print(\"Accuracy of Gradient-boosted tree classifie is = %g\"% (gbt_accuracy))\n",
        "print(\"Test Error of Gradient-boosted tree classifie %g\"% (1.0 - gbt_accuracy))"
      ],
      "metadata": {
        "colab": {
          "base_uri": "https://localhost:8080/"
        },
        "id": "TihzPBNSJAAD",
        "outputId": "b339fa6d-3809-49e5-b494-79c5ad906e05"
      },
      "execution_count": 37,
      "outputs": [
        {
          "output_type": "stream",
          "name": "stdout",
          "text": [
            "Accuracy of Gradient-boosted tree classifie is = 0.68617\n",
            "Test Error of Gradient-boosted tree classifie 0.31383\n"
          ]
        }
      ]
    },
    {
      "cell_type": "markdown",
      "source": [
        "## Naive Bayes"
      ],
      "metadata": {
        "id": "YLjRIuuQJTfq"
      }
    },
    {
      "cell_type": "code",
      "source": [
        "from pyspark.ml.classification import NaiveBayes\n",
        "nb = NaiveBayes(labelCol=\"Survived\", featuresCol=\"features\")\n",
        "nb_model = nb.fit(trainingData)\n",
        "nb_prediction = nb_model.transform(testData)\n",
        "nb_prediction.select(\"prediction\", \"Survived\", \"features\").show()"
      ],
      "metadata": {
        "colab": {
          "base_uri": "https://localhost:8080/"
        },
        "id": "kbhcbRgdJVrY",
        "outputId": "01f4d715-3388-41ad-960f-84e77bec796b"
      },
      "execution_count": 39,
      "outputs": [
        {
          "output_type": "stream",
          "name": "stdout",
          "text": [
            "+----------+--------+--------------------+\n",
            "|prediction|Survived|            features|\n",
            "+----------+--------+--------------------+\n",
            "|       1.0|       0|[1.0,22.0,0.0,0.0...|\n",
            "|       1.0|       0|[1.0,24.0,0.0,0.0...|\n",
            "|       0.0|       0|[1.0,29.0,0.0,0.0...|\n",
            "|       1.0|       0|[1.0,29.0,1.0,0.0...|\n",
            "|       0.0|       0|[1.0,30.0,0.0,0.0...|\n",
            "|       1.0|       0|[1.0,31.0,1.0,0.0...|\n",
            "|       0.0|       0|(5,[0,1],[1.0,33.0])|\n",
            "|       0.0|       0|[1.0,33.0,0.0,0.0...|\n",
            "|       1.0|       0|[1.0,33.0,0.0,0.0...|\n",
            "|       1.0|       0|[1.0,33.0,0.0,0.0...|\n",
            "|       1.0|       0|[1.0,33.0,0.0,0.0...|\n",
            "|       1.0|       0|[1.0,37.0,1.0,0.0...|\n",
            "|       1.0|       0|[1.0,38.0,0.0,1.0...|\n",
            "|       1.0|       0|[1.0,45.0,1.0,0.0...|\n",
            "|       0.0|       0|[1.0,47.0,0.0,0.0...|\n",
            "|       1.0|       0|[1.0,58.0,0.0,2.0...|\n",
            "|       0.0|       0|[1.0,62.0,0.0,0.0...|\n",
            "|       0.0|       0|[1.0,65.0,0.0,0.0...|\n",
            "|       0.0|       0|[1.0,71.0,0.0,0.0...|\n",
            "|       1.0|       0|[2.0,19.0,1.0,1.0...|\n",
            "+----------+--------+--------------------+\n",
            "only showing top 20 rows\n",
            "\n"
          ]
        }
      ]
    },
    {
      "cell_type": "code",
      "source": [
        "# Evaluating accuracy of Naive Bayes\n",
        "nb_accuracy = evaluator.evaluate(nb_prediction)\n",
        "print(\"Accuracy of NaiveBayes is  = %g\"% (nb_accuracy))\n",
        "print(\"Test Error of NaiveBayes  = %g \" % (1.0 - nb_accuracy))"
      ],
      "metadata": {
        "colab": {
          "base_uri": "https://localhost:8080/"
        },
        "id": "MbRNN8bEJXSx",
        "outputId": "e2012632-01c8-4811-d144-d569c37dd95d"
      },
      "execution_count": 40,
      "outputs": [
        {
          "output_type": "stream",
          "name": "stdout",
          "text": [
            "Accuracy of NaiveBayes is  = 0.723404\n",
            "Test Error of NaiveBayes  = 0.276596 \n"
          ]
        }
      ]
    }
  ]
}